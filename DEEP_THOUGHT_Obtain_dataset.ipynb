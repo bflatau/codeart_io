{
  "cells": [
    {
      "cell_type": "markdown",
      "metadata": {
        "id": "view-in-github",
        "colab_type": "text"
      },
      "source": [
        "<a href=\"https://colab.research.google.com/github/bflatau/codeart_io/blob/add_embeddings/DEEP_THOUGHT_Obtain_dataset.ipynb\" target=\"_parent\"><img src=\"https://colab.research.google.com/assets/colab-badge.svg\" alt=\"Open In Colab\"/></a>"
      ]
    },
    {
      "cell_type": "markdown",
      "source": [
        "### DATA\n",
        "\n",
        "Use this file: https://drive.google.com/file/d/1Hiwc-OfExpxQ1_gxbBELk1LyY7rXHjQk/view?usp=sharing"
      ],
      "metadata": {
        "id": "JLhHEoKgIs3n"
      }
    },
    {
      "cell_type": "markdown",
      "source": [
        "### SETUP OPENAI"
      ],
      "metadata": {
        "id": "CqPkWgmMJAos"
      }
    },
    {
      "cell_type": "code",
      "source": [
        "# INSTALL OPENAI LIBRARY\n",
        "!pip install openai"
      ],
      "metadata": {
        "id": "VwAWqIJSBbf9",
        "colab": {
          "base_uri": "https://localhost:8080/"
        },
        "outputId": "0c3b9fba-803e-4797-8f4c-a02f4715d039"
      },
      "execution_count": null,
      "outputs": [
        {
          "output_type": "stream",
          "name": "stdout",
          "text": [
            "Looking in indexes: https://pypi.org/simple, https://us-python.pkg.dev/colab-wheels/public/simple/\n",
            "Collecting openai\n",
            "  Downloading openai-0.19.0.tar.gz (42 kB)\n",
            "\u001b[K     |████████████████████████████████| 42 kB 1.0 MB/s \n",
            "\u001b[?25h  Installing build dependencies ... \u001b[?25l\u001b[?25hdone\n",
            "  Getting requirements to build wheel ... \u001b[?25l\u001b[?25hdone\n",
            "    Preparing wheel metadata ... \u001b[?25l\u001b[?25hdone\n",
            "Requirement already satisfied: openpyxl>=3.0.7 in /usr/local/lib/python3.7/dist-packages (from openai) (3.0.10)\n",
            "Collecting pandas-stubs>=1.1.0.11\n",
            "  Downloading pandas_stubs-1.2.0.61-py3-none-any.whl (163 kB)\n",
            "\u001b[K     |████████████████████████████████| 163 kB 40.2 MB/s \n",
            "\u001b[?25hRequirement already satisfied: tqdm in /usr/local/lib/python3.7/dist-packages (from openai) (4.64.0)\n",
            "Requirement already satisfied: pandas>=1.2.3 in /usr/local/lib/python3.7/dist-packages (from openai) (1.3.5)\n",
            "Requirement already satisfied: requests>=2.20 in /usr/local/lib/python3.7/dist-packages (from openai) (2.23.0)\n",
            "Requirement already satisfied: et-xmlfile in /usr/local/lib/python3.7/dist-packages (from openpyxl>=3.0.7->openai) (1.1.0)\n",
            "Requirement already satisfied: pytz>=2017.3 in /usr/local/lib/python3.7/dist-packages (from pandas>=1.2.3->openai) (2022.1)\n",
            "Requirement already satisfied: python-dateutil>=2.7.3 in /usr/local/lib/python3.7/dist-packages (from pandas>=1.2.3->openai) (2.8.2)\n",
            "Requirement already satisfied: numpy>=1.17.3 in /usr/local/lib/python3.7/dist-packages (from pandas>=1.2.3->openai) (1.21.6)\n",
            "Requirement already satisfied: typing-extensions>=3.7.4.3 in /usr/local/lib/python3.7/dist-packages (from pandas-stubs>=1.1.0.11->openai) (4.2.0)\n",
            "Requirement already satisfied: six>=1.5 in /usr/local/lib/python3.7/dist-packages (from python-dateutil>=2.7.3->pandas>=1.2.3->openai) (1.15.0)\n",
            "Requirement already satisfied: chardet<4,>=3.0.2 in /usr/local/lib/python3.7/dist-packages (from requests>=2.20->openai) (3.0.4)\n",
            "Requirement already satisfied: urllib3!=1.25.0,!=1.25.1,<1.26,>=1.21.1 in /usr/local/lib/python3.7/dist-packages (from requests>=2.20->openai) (1.24.3)\n",
            "Requirement already satisfied: idna<3,>=2.5 in /usr/local/lib/python3.7/dist-packages (from requests>=2.20->openai) (2.10)\n",
            "Requirement already satisfied: certifi>=2017.4.17 in /usr/local/lib/python3.7/dist-packages (from requests>=2.20->openai) (2022.5.18.1)\n",
            "Building wheels for collected packages: openai\n",
            "  Building wheel for openai (PEP 517) ... \u001b[?25l\u001b[?25hdone\n",
            "  Created wheel for openai: filename=openai-0.19.0-py3-none-any.whl size=53535 sha256=b15e3eb517e613b980df7ecf85b0224d80756510f06076191581b95522e920c0\n",
            "  Stored in directory: /root/.cache/pip/wheels/94/b5/c0/928013bd6418b23b9c5d89fb24cdeb1faae899c11377d69609\n",
            "Successfully built openai\n",
            "Installing collected packages: pandas-stubs, openai\n",
            "Successfully installed openai-0.19.0 pandas-stubs-1.2.0.61\n"
          ]
        }
      ]
    },
    {
      "cell_type": "code",
      "source": [
        "import openai\n",
        "\n",
        "# Load your API key from an environment variable or secret management service\n",
        "#openai.api_key = ##APIKEYHERE##"
      ],
      "metadata": {
        "id": "a6Ii6n-tIND_"
      },
      "execution_count": null,
      "outputs": []
    },
    {
      "cell_type": "markdown",
      "metadata": {
        "id": "cczhsC7ni58E"
      },
      "source": [
        "## 1. Load the dataset\n",
        "\n",
        "The dataset used in this example is [fine-food reviews](https://www.kaggle.com/snap/amazon-fine-food-reviews) from Amazon. The dataset contains a total of 568,454 food reviews Amazon users left up to October 2012. We will use a subset of this dataset, consisting of 1,000 most recent reviews for illustration purposes. The reviews are in English and tend to be positive or negative. Each review has a ProductId, UserId, Score, review title (Summary) and review body (Text).\n",
        "\n",
        "We will combine the review summary and review text into a single combined text. The model will encode this combined text and it will output a single vector embedding."
      ]
    },
    {
      "cell_type": "code",
      "execution_count": 9,
      "metadata": {
        "id": "x9SQFuRKi58G",
        "colab": {
          "base_uri": "https://localhost:8080/",
          "height": 363
        },
        "outputId": "fc18c882-59d3-4395-c54e-e7ecde539d73"
      },
      "outputs": [
        {
          "output_type": "execute_result",
          "data": {
            "text/plain": [
              "                                                   answer  \\\n",
              "389435  Idiomatically, if you've \"lost\" these small sp...   \n",
              "389436  Something overlooked has been \"lost in\" this, ...   \n",
              "389437  Art Fleming & Don Pardo were in the video for ...   \n",
              "389438  In \"A Moveable Feast\", Gertrude Stein is quote...   \n",
              "389439  The biblical Asher & Zebulun were 2 of these t...   \n",
              "389440  This hefty noisemaker from Whitechapel Foundry...   \n",
              "389441  Around 4,000 years ago, the first foundries in...   \n",
              "389442  Several different foundries worked for 4 month...   \n",
              "389443  Once one of the largest of its kind, the Gary ...   \n",
              "389444  2 of the 3 women depicted on the first statue ...   \n",
              "\n",
              "                                                 question  \\\n",
              "389435                                            marbles   \n",
              "389436                                        the shuffle   \n",
              "389437                             \\\"I Lost On Jeopardy\\\"   \n",
              "389438                                    Lost Generation   \n",
              "389439                          the lost tribes of Israel   \n",
              "389440                                            Big Ben   \n",
              "389441                                             bronze   \n",
              "389442                                            Monitor   \n",
              "389443                                         U.S. Steel   \n",
              "389444  (2 of) (Sojourner) Truth, (Susan B.) Anthony, ...   \n",
              "\n",
              "                                                 combined  \n",
              "389435  Question: marbles; Answer: Idiomatically, if y...  \n",
              "389436  Question: the shuffle; Answer: Something overl...  \n",
              "389437  Question: \\\"I Lost On Jeopardy\\\"; Answer: Art ...  \n",
              "389438  Question: Lost Generation; Answer: In \"A Movea...  \n",
              "389439  Question: the lost tribes of Israel; Answer: T...  \n",
              "389440  Question: Big Ben; Answer: This hefty noisemak...  \n",
              "389441  Question: bronze; Answer: Around 4,000 years a...  \n",
              "389442  Question: Monitor; Answer: Several different f...  \n",
              "389443  Question: U.S. Steel; Answer: Once one of the ...  \n",
              "389444  Question: (2 of) (Sojourner) Truth, (Susan B.)...  "
            ],
            "text/html": [
              "\n",
              "  <div id=\"df-7f441e42-2ac8-4861-8c7d-324a4d12b738\">\n",
              "    <div class=\"colab-df-container\">\n",
              "      <div>\n",
              "<style scoped>\n",
              "    .dataframe tbody tr th:only-of-type {\n",
              "        vertical-align: middle;\n",
              "    }\n",
              "\n",
              "    .dataframe tbody tr th {\n",
              "        vertical-align: top;\n",
              "    }\n",
              "\n",
              "    .dataframe thead th {\n",
              "        text-align: right;\n",
              "    }\n",
              "</style>\n",
              "<table border=\"1\" class=\"dataframe\">\n",
              "  <thead>\n",
              "    <tr style=\"text-align: right;\">\n",
              "      <th></th>\n",
              "      <th>answer</th>\n",
              "      <th>question</th>\n",
              "      <th>combined</th>\n",
              "    </tr>\n",
              "  </thead>\n",
              "  <tbody>\n",
              "    <tr>\n",
              "      <th>389435</th>\n",
              "      <td>Idiomatically, if you've \"lost\" these small sp...</td>\n",
              "      <td>marbles</td>\n",
              "      <td>Question: marbles; Answer: Idiomatically, if y...</td>\n",
              "    </tr>\n",
              "    <tr>\n",
              "      <th>389436</th>\n",
              "      <td>Something overlooked has been \"lost in\" this, ...</td>\n",
              "      <td>the shuffle</td>\n",
              "      <td>Question: the shuffle; Answer: Something overl...</td>\n",
              "    </tr>\n",
              "    <tr>\n",
              "      <th>389437</th>\n",
              "      <td>Art Fleming &amp; Don Pardo were in the video for ...</td>\n",
              "      <td>\\\"I Lost On Jeopardy\\\"</td>\n",
              "      <td>Question: \\\"I Lost On Jeopardy\\\"; Answer: Art ...</td>\n",
              "    </tr>\n",
              "    <tr>\n",
              "      <th>389438</th>\n",
              "      <td>In \"A Moveable Feast\", Gertrude Stein is quote...</td>\n",
              "      <td>Lost Generation</td>\n",
              "      <td>Question: Lost Generation; Answer: In \"A Movea...</td>\n",
              "    </tr>\n",
              "    <tr>\n",
              "      <th>389439</th>\n",
              "      <td>The biblical Asher &amp; Zebulun were 2 of these t...</td>\n",
              "      <td>the lost tribes of Israel</td>\n",
              "      <td>Question: the lost tribes of Israel; Answer: T...</td>\n",
              "    </tr>\n",
              "    <tr>\n",
              "      <th>389440</th>\n",
              "      <td>This hefty noisemaker from Whitechapel Foundry...</td>\n",
              "      <td>Big Ben</td>\n",
              "      <td>Question: Big Ben; Answer: This hefty noisemak...</td>\n",
              "    </tr>\n",
              "    <tr>\n",
              "      <th>389441</th>\n",
              "      <td>Around 4,000 years ago, the first foundries in...</td>\n",
              "      <td>bronze</td>\n",
              "      <td>Question: bronze; Answer: Around 4,000 years a...</td>\n",
              "    </tr>\n",
              "    <tr>\n",
              "      <th>389442</th>\n",
              "      <td>Several different foundries worked for 4 month...</td>\n",
              "      <td>Monitor</td>\n",
              "      <td>Question: Monitor; Answer: Several different f...</td>\n",
              "    </tr>\n",
              "    <tr>\n",
              "      <th>389443</th>\n",
              "      <td>Once one of the largest of its kind, the Gary ...</td>\n",
              "      <td>U.S. Steel</td>\n",
              "      <td>Question: U.S. Steel; Answer: Once one of the ...</td>\n",
              "    </tr>\n",
              "    <tr>\n",
              "      <th>389444</th>\n",
              "      <td>2 of the 3 women depicted on the first statue ...</td>\n",
              "      <td>(2 of) (Sojourner) Truth, (Susan B.) Anthony, ...</td>\n",
              "      <td>Question: (2 of) (Sojourner) Truth, (Susan B.)...</td>\n",
              "    </tr>\n",
              "  </tbody>\n",
              "</table>\n",
              "</div>\n",
              "      <button class=\"colab-df-convert\" onclick=\"convertToInteractive('df-7f441e42-2ac8-4861-8c7d-324a4d12b738')\"\n",
              "              title=\"Convert this dataframe to an interactive table.\"\n",
              "              style=\"display:none;\">\n",
              "        \n",
              "  <svg xmlns=\"http://www.w3.org/2000/svg\" height=\"24px\"viewBox=\"0 0 24 24\"\n",
              "       width=\"24px\">\n",
              "    <path d=\"M0 0h24v24H0V0z\" fill=\"none\"/>\n",
              "    <path d=\"M18.56 5.44l.94 2.06.94-2.06 2.06-.94-2.06-.94-.94-2.06-.94 2.06-2.06.94zm-11 1L8.5 8.5l.94-2.06 2.06-.94-2.06-.94L8.5 2.5l-.94 2.06-2.06.94zm10 10l.94 2.06.94-2.06 2.06-.94-2.06-.94-.94-2.06-.94 2.06-2.06.94z\"/><path d=\"M17.41 7.96l-1.37-1.37c-.4-.4-.92-.59-1.43-.59-.52 0-1.04.2-1.43.59L10.3 9.45l-7.72 7.72c-.78.78-.78 2.05 0 2.83L4 21.41c.39.39.9.59 1.41.59.51 0 1.02-.2 1.41-.59l7.78-7.78 2.81-2.81c.8-.78.8-2.07 0-2.86zM5.41 20L4 18.59l7.72-7.72 1.47 1.35L5.41 20z\"/>\n",
              "  </svg>\n",
              "      </button>\n",
              "      \n",
              "  <style>\n",
              "    .colab-df-container {\n",
              "      display:flex;\n",
              "      flex-wrap:wrap;\n",
              "      gap: 12px;\n",
              "    }\n",
              "\n",
              "    .colab-df-convert {\n",
              "      background-color: #E8F0FE;\n",
              "      border: none;\n",
              "      border-radius: 50%;\n",
              "      cursor: pointer;\n",
              "      display: none;\n",
              "      fill: #1967D2;\n",
              "      height: 32px;\n",
              "      padding: 0 0 0 0;\n",
              "      width: 32px;\n",
              "    }\n",
              "\n",
              "    .colab-df-convert:hover {\n",
              "      background-color: #E2EBFA;\n",
              "      box-shadow: 0px 1px 2px rgba(60, 64, 67, 0.3), 0px 1px 3px 1px rgba(60, 64, 67, 0.15);\n",
              "      fill: #174EA6;\n",
              "    }\n",
              "\n",
              "    [theme=dark] .colab-df-convert {\n",
              "      background-color: #3B4455;\n",
              "      fill: #D2E3FC;\n",
              "    }\n",
              "\n",
              "    [theme=dark] .colab-df-convert:hover {\n",
              "      background-color: #434B5C;\n",
              "      box-shadow: 0px 1px 3px 1px rgba(0, 0, 0, 0.15);\n",
              "      filter: drop-shadow(0px 1px 2px rgba(0, 0, 0, 0.3));\n",
              "      fill: #FFFFFF;\n",
              "    }\n",
              "  </style>\n",
              "\n",
              "      <script>\n",
              "        const buttonEl =\n",
              "          document.querySelector('#df-7f441e42-2ac8-4861-8c7d-324a4d12b738 button.colab-df-convert');\n",
              "        buttonEl.style.display =\n",
              "          google.colab.kernel.accessAllowed ? 'block' : 'none';\n",
              "\n",
              "        async function convertToInteractive(key) {\n",
              "          const element = document.querySelector('#df-7f441e42-2ac8-4861-8c7d-324a4d12b738');\n",
              "          const dataTable =\n",
              "            await google.colab.kernel.invokeFunction('convertToInteractive',\n",
              "                                                     [key], {});\n",
              "          if (!dataTable) return;\n",
              "\n",
              "          const docLinkHtml = 'Like what you see? Visit the ' +\n",
              "            '<a target=\"_blank\" href=https://colab.research.google.com/notebooks/data_table.ipynb>data table notebook</a>'\n",
              "            + ' to learn more about interactive tables.';\n",
              "          element.innerHTML = '';\n",
              "          dataTable['output_type'] = 'display_data';\n",
              "          await google.colab.output.renderOutput(dataTable, element);\n",
              "          const docLink = document.createElement('div');\n",
              "          docLink.innerHTML = docLinkHtml;\n",
              "          element.appendChild(docLink);\n",
              "        }\n",
              "      </script>\n",
              "    </div>\n",
              "  </div>\n",
              "  "
            ]
          },
          "metadata": {},
          "execution_count": 9
        }
      ],
      "source": [
        "import pandas as pd\n",
        "\n",
        "df = pd.read_csv('combined_season1-37.tsv',  sep='\\t') #read file\n",
        "df = df[[ 'answer', 'question']] #name the columns we want\n",
        "df = df.dropna() #remove all the columns not identified above\n",
        "df['combined'] = \"Question: \" + df.question.str.strip() + \"; Answer: \" + df.answer.str.strip() #make superstring?\n",
        "#df.head(6) #this tests N rows to see if the data looks correct\n",
        "\n",
        "df = df.tail(1000) # set df to the last N number of values to work with\n",
        "#len(df) #output length\n",
        "\n",
        "\n",
        "\n",
        "###REFERENCE\n",
        "#df = pd.read_csv('input/Reviews.csv', index_col=0)\n",
        "#df = df[['Time', 'ProductId', 'UserId', 'Score', 'Summary', 'Text']]\n",
        "#df = df.dropna()\n",
        "#df['combined'] = \"Title: \" + df.Summary.str.strip() + \"; Content: \" + df.Text.str.strip()\n",
        "#df.head(2)\n",
        "\n",
        "## subsample to 1k most recent reviews and remove samples that are too long\n",
        "#df = df.sort_values('Time').tail(1_100)\n",
        "#df.drop('Time', axis=1, inplace=True)\n",
        "\n",
        "#from transformers import GPT2TokenizerFast\n",
        "#tokenizer = GPT2TokenizerFast.from_pretrained(\"gpt2\")\n",
        "\n",
        "## remove reviews that are too long\n",
        "#df['n_tokens'] = df.combined.apply(lambda x: len(tokenizer.encode(x)))\n",
        "#df = df[df.n_tokens<2000].tail(1_000)\n",
        "#len(df)"
      ]
    },
    {
      "cell_type": "markdown",
      "metadata": {
        "id": "2wxIqQQ9i58I"
      },
      "source": [
        "### 2. Get embeddings and save them for future reuse"
      ]
    },
    {
      "cell_type": "code",
      "execution_count": null,
      "metadata": {
        "id": "ZrYjA4uPi58I"
      },
      "outputs": [],
      "source": [
        "from openai.embeddings_utils import get_embedding\n",
        "\n",
        "# This will take just under 10 minutes\n",
        "df['babbage_similarity'] = df.combined.apply(lambda x: get_embedding(x, engine='text-similarity-babbage-001'))\n",
        "df['babbage_search'] = df.combined.apply(lambda x: get_embedding(x, engine='text-search-babbage-doc-001'))\n",
        "df.to_csv('embedded_1k_reviews.csv')"
      ]
    }
  ],
  "metadata": {
    "interpreter": {
      "hash": "be4b5d5b73a21c599de40d6deb1129796d12dc1cc33a738f7bac13269cfcafe8"
    },
    "kernelspec": {
      "display_name": "Python 3.7.3 64-bit ('base': conda)",
      "name": "python3"
    },
    "language_info": {
      "codemirror_mode": {
        "name": "ipython",
        "version": 3
      },
      "file_extension": ".py",
      "mimetype": "text/x-python",
      "name": "python",
      "nbconvert_exporter": "python",
      "pygments_lexer": "ipython3",
      "version": "3.9.9"
    },
    "orig_nbformat": 4,
    "colab": {
      "name": "DEEP THOUGHT Obtain_dataset.ipynb",
      "provenance": [],
      "include_colab_link": true
    }
  },
  "nbformat": 4,
  "nbformat_minor": 0
}